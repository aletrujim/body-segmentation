{
 "cells": [
  {
   "cell_type": "markdown",
   "metadata": {},
   "source": [
    "## Test - BRemNet segmented"
   ]
  },
  {
   "cell_type": "code",
   "execution_count": 1,
   "metadata": {},
   "outputs": [
    {
     "name": "stdout",
     "output_type": "stream",
     "text": [
      "Populating the interactive namespace from numpy and matplotlib\n"
     ]
    }
   ],
   "source": [
    "import cv2\n",
    "import numpy as np\n",
    "from PIL import Image\n",
    "\n",
    "%pylab inline\n",
    "import matplotlib.pyplot as plt\n",
    "\n",
    "import os"
   ]
  },
  {
   "cell_type": "code",
   "execution_count": 2,
   "metadata": {},
   "outputs": [
    {
     "name": "stdout",
     "output_type": "stream",
     "text": [
      "(1080, 1920)\n"
     ]
    }
   ],
   "source": [
    "mask = Image.open(\"out_bremnet/bremnet_segm.png\")\n",
    "mask = mask.convert('RGBA')\n",
    "original_size = mask.size\n",
    "\n",
    "print(original_size)"
   ]
  },
  {
   "cell_type": "markdown",
   "metadata": {},
   "source": [
    "#### background transparent"
   ]
  },
  {
   "cell_type": "code",
   "execution_count": 3,
   "metadata": {},
   "outputs": [
    {
     "data": {
      "text/plain": [
       "<matplotlib.image.AxesImage at 0x7f80fa3329e8>"
      ]
     },
     "execution_count": 3,
     "metadata": {},
     "output_type": "execute_result"
    },
    {
     "data": {
      "image/png": "[encoded data removed]",
      "text/plain": [
       "<Figure size 432x288 with 1 Axes>"
      ]
     },
     "metadata": {
      "needs_background": "light"
     },
     "output_type": "display_data"
    }
   ],
   "source": [
    "background = (255,255,255,0)\n",
    "transparent = (0,0,0,0)\n",
    "black = (0,0,0,255)\n",
    "\n",
    "mask_transparentbg = []\n",
    "\n",
    "for color in mask.getdata():\n",
    "    #print(color)\n",
    "    if color == background:\n",
    "        mask_transparentbg.append(transparent)\n",
    "    else:\n",
    "        mask_transparentbg.append(black)\n",
    "\n",
    "new_mask = Image.new(mask.mode, mask.size)\n",
    "new_mask.putdata(mask_transparentbg)\n",
    "\n",
    "#resize (512, 424)\n",
    "#new_mask.thumbnail((512,512), Image.ANTIALIAS)\n",
    "    \n",
    "new_mask.save('out_bremnet/bremnetsegm_transparentbg.png')\n",
    "plt.imshow(np.asarray(new_mask))"
   ]
  },
  {
   "cell_type": "code",
   "execution_count": 4,
   "metadata": {},
   "outputs": [
    {
     "data": {
      "text/plain": [
       "array([[[0, 0, 0, 0],\n",
       "        [0, 0, 0, 0],\n",
       "        [0, 0, 0, 0],\n",
       "        ...,\n",
       "        [0, 0, 0, 0],\n",
       "        [0, 0, 0, 0],\n",
       "        [0, 0, 0, 0]],\n",
       "\n",
       "       [[0, 0, 0, 0],\n",
       "        [0, 0, 0, 0],\n",
       "        [0, 0, 0, 0],\n",
       "        ...,\n",
       "        [0, 0, 0, 0],\n",
       "        [0, 0, 0, 0],\n",
       "        [0, 0, 0, 0]],\n",
       "\n",
       "       [[0, 0, 0, 0],\n",
       "        [0, 0, 0, 0],\n",
       "        [0, 0, 0, 0],\n",
       "        ...,\n",
       "        [0, 0, 0, 0],\n",
       "        [0, 0, 0, 0],\n",
       "        [0, 0, 0, 0]],\n",
       "\n",
       "       ...,\n",
       "\n",
       "       [[0, 0, 0, 0],\n",
       "        [0, 0, 0, 0],\n",
       "        [0, 0, 0, 0],\n",
       "        ...,\n",
       "        [0, 0, 0, 0],\n",
       "        [0, 0, 0, 0],\n",
       "        [0, 0, 0, 0]],\n",
       "\n",
       "       [[0, 0, 0, 0],\n",
       "        [0, 0, 0, 0],\n",
       "        [0, 0, 0, 0],\n",
       "        ...,\n",
       "        [0, 0, 0, 0],\n",
       "        [0, 0, 0, 0],\n",
       "        [0, 0, 0, 0]],\n",
       "\n",
       "       [[0, 0, 0, 0],\n",
       "        [0, 0, 0, 0],\n",
       "        [0, 0, 0, 0],\n",
       "        ...,\n",
       "        [0, 0, 0, 0],\n",
       "        [0, 0, 0, 0],\n",
       "        [0, 0, 0, 0]]], dtype=uint8)"
      ]
     },
     "execution_count": 4,
     "metadata": {},
     "output_type": "execute_result"
    }
   ],
   "source": [
    "image = cv2.imread('out_bremnet/bremnetsegm_transparentbg.png', cv2.IMREAD_UNCHANGED)\n",
    "image"
   ]
  },
  {
   "cell_type": "markdown",
   "metadata": {},
   "source": [
    "### image info"
   ]
  },
  {
   "cell_type": "code",
   "execution_count": 5,
   "metadata": {},
   "outputs": [
    {
     "name": "stdout",
     "output_type": "stream",
     "text": [
      "alpha  [[0 0 0 ... 0 0 0]\n",
      " [0 0 0 ... 0 0 0]\n",
      " [0 0 0 ... 0 0 0]\n",
      " ...\n",
      " [0 0 0 ... 0 0 0]\n",
      " [0 0 0 ... 0 0 0]\n",
      " [0 0 0 ... 0 0 0]]\n",
      "cdata  [[0 0 0 ... 0 0 0]\n",
      " [0 0 0 ... 0 0 0]\n",
      " [0 0 0 ... 0 0 0]\n",
      " ...\n",
      " [0 0 0 ... 0 0 0]\n",
      " [0 0 0 ... 0 0 0]\n",
      " [0 0 0 ... 0 0 0]]\n"
     ]
    }
   ],
   "source": [
    "alpha = image[:, :, 3]\n",
    "print(\"alpha \", alpha)\n",
    "\n",
    "cdata = image[:, :, :3]\n",
    "cdata = cv2.cvtColor(cdata, cv2.COLOR_BGR2GRAY)\n",
    "print(\"cdata \", cdata)"
   ]
  },
  {
   "cell_type": "code",
   "execution_count": 6,
   "metadata": {},
   "outputs": [
    {
     "name": "stdout",
     "output_type": "stream",
     "text": [
      "margin_1 shape  (1080,)\n",
      "margin_1  [0 0 0 ... 0 0 0]\n",
      "margin_2  [0 0 0 ... 0 0 0]\n"
     ]
    }
   ],
   "source": [
    "margin_1 = np.sum(alpha, axis=0)\n",
    "margin_2 = np.sum(alpha, axis=1)\n",
    "\n",
    "print(\"margin_1 shape \", margin_1.shape)\n",
    "print(\"margin_1 \", margin_1)\n",
    "print(\"margin_2 \", margin_2)"
   ]
  },
  {
   "cell_type": "code",
   "execution_count": 7,
   "metadata": {},
   "outputs": [
    {
     "name": "stdout",
     "output_type": "stream",
     "text": [
      "top  224\n",
      "bottom 1790\n",
      "left 63\n",
      "right 991\n"
     ]
    }
   ],
   "source": [
    "top = np.nonzero(margin_2)[0][0]\n",
    "bottom = np.nonzero(margin_2)[0][-1]\n",
    "left = np.nonzero(margin_1)[0][0]\n",
    "right = np.nonzero(margin_1)[0][-1]\n",
    "\n",
    "print(\"top \", top)\n",
    "print(\"bottom\", bottom)\n",
    "print(\"left\", left)\n",
    "print(\"right\", right)"
   ]
  },
  {
   "cell_type": "code",
   "execution_count": 8,
   "metadata": {},
   "outputs": [
    {
     "data": {
      "text/plain": [
       "<matplotlib.image.AxesImage at 0x7f80f9e112b0>"
      ]
     },
     "execution_count": 8,
     "metadata": {},
     "output_type": "execute_result"
    },
    {
     "data": {
      "image/png": "[encoded data removed]",
      "text/plain": [
       "<Figure size 432x288 with 1 Axes>"
      ]
     },
     "metadata": {
      "needs_background": "light"
     },
     "output_type": "display_data"
    }
   ],
   "source": [
    "plt.imshow(image)"
   ]
  },
  {
   "cell_type": "code",
   "execution_count": 9,
   "metadata": {},
   "outputs": [
    {
     "name": "stdout",
     "output_type": "stream",
     "text": [
      "width  928\n",
      "height  1566\n"
     ]
    }
   ],
   "source": [
    "width = right - left\n",
    "height = bottom - top\n",
    "\n",
    "print(\"width \", width)\n",
    "print(\"height \", height)"
   ]
  },
  {
   "cell_type": "code",
   "execution_count": 10,
   "metadata": {},
   "outputs": [
    {
     "name": "stdout",
     "output_type": "stream",
     "text": [
      "alpha  [[0 0 0 ... 0 0 0]\n",
      " [0 0 0 ... 0 0 0]\n",
      " [0 0 0 ... 0 0 0]\n",
      " ...\n",
      " [0 0 0 ... 0 0 0]\n",
      " [0 0 0 ... 0 0 0]\n",
      " [0 0 0 ... 0 0 0]]\n",
      "cdata  [[0 0 0 ... 0 0 0]\n",
      " [0 0 0 ... 0 0 0]\n",
      " [0 0 0 ... 0 0 0]\n",
      " ...\n",
      " [0 0 0 ... 0 0 0]\n",
      " [0 0 0 ... 0 0 0]\n",
      " [0 0 0 ... 0 0 0]]\n"
     ]
    }
   ],
   "source": [
    "alpha = alpha[top:bottom, left:right]\n",
    "cdata = cdata[top:bottom, left:right]\n",
    "\n",
    "print(\"alpha \", alpha)\n",
    "print(\"cdata \", cdata)"
   ]
  },
  {
   "cell_type": "markdown",
   "metadata": {},
   "source": [
    "### scaler"
   ]
  },
  {
   "cell_type": "code",
   "execution_count": 11,
   "metadata": {},
   "outputs": [
    {
     "name": "stdout",
     "output_type": "stream",
     "text": [
      "(190, 3824)\n"
     ]
    }
   ],
   "source": [
    "target_window = 190\n",
    "margin = 30\n",
    "\n",
    "if height > width:\n",
    "\tscaler = (target_window, int(float(width * height)/(target_window*2)))\n",
    "else:\n",
    "\tscaler = (int(float(width * height)/target_window), target_window)\n",
    "    \n",
    "print(scaler)"
   ]
  },
  {
   "cell_type": "markdown",
   "metadata": {},
   "source": [
    "target_window = 190\n",
    "margin = 30\n",
    "#scaler = (target_window, target_window)\n",
    "\n",
    "if height > width:\n",
    "\tscaler = (target_window, int(float(target_window * width)/height))\n",
    "else:\n",
    "\tscaler = (int(float(target_window * height)/width), target_window)\n",
    "    \n",
    "print(scaler)"
   ]
  },
  {
   "cell_type": "code",
   "execution_count": 12,
   "metadata": {},
   "outputs": [
    {
     "name": "stdout",
     "output_type": "stream",
     "text": [
      "depth_image shape  (3824, 190)\n",
      "depth_mask shape  (3824, 190)\n"
     ]
    }
   ],
   "source": [
    "depth_image = cv2.resize(cdata, scaler)\n",
    "depth_mask = cv2.resize(alpha, scaler) == 255\n",
    "\n",
    "average_depth = np.mean(depth_image[depth_mask])\n",
    "\n",
    "depth_image[depth_mask] = np.uint8(np.int64(depth_image[depth_mask])) + np.int64(55 - average_depth)\n",
    "depth_image[~depth_mask] = 255\n",
    "depth_image = depth_image.astype(float)/255\n",
    "\n",
    "print(\"depth_image shape \", depth_image.shape)\n",
    "print(\"depth_mask shape \", depth_mask.shape)"
   ]
  },
  {
   "cell_type": "code",
   "execution_count": 13,
   "metadata": {},
   "outputs": [
    {
     "name": "stdout",
     "output_type": "stream",
     "text": [
      "width  190\n",
      "height  3824\n"
     ]
    }
   ],
   "source": [
    "height, width = depth_image.shape[0], depth_image.shape[1]\n",
    "\n",
    "print(\"width \", width)\n",
    "print(\"height \", height)"
   ]
  },
  {
   "cell_type": "code",
   "execution_count": 14,
   "metadata": {},
   "outputs": [
    {
     "name": "stdout",
     "output_type": "stream",
     "text": [
      "final_depth_image shape  (250, 250)\n",
      "final_depth_mask shape  (250, 250)\n"
     ]
    }
   ],
   "source": [
    "final_depth_image = np.ones((target_window + 2 * margin, target_window + 2 * margin), dtype=float)\n",
    "final_depth_mask = np.zeros((target_window + 2 * margin, target_window + 2 * margin), dtype=bool)\n",
    "\n",
    "print(\"final_depth_image shape \", final_depth_image.shape)\n",
    "print(\"final_depth_mask shape \", final_depth_mask.shape)"
   ]
  },
  {
   "cell_type": "code",
   "execution_count": 15,
   "metadata": {},
   "outputs": [
    {
     "name": "stdout",
     "output_type": "stream",
     "text": [
      "loc_x  31\n",
      "loc_y  -1786\n"
     ]
    }
   ],
   "source": [
    "loc_x = int(np.floor((target_window + 2 * margin - width)/2) + 1)\n",
    "loc_y = int(np.floor((target_window + 2 * margin - height)/2) + 1)\n",
    "\n",
    "print(\"loc_x \", loc_x)\n",
    "print(\"loc_y \", loc_y)"
   ]
  },
  {
   "cell_type": "code",
   "execution_count": 16,
   "metadata": {},
   "outputs": [
    {
     "ename": "ValueError",
     "evalue": "could not broadcast input array from shape (3824,190) into shape (250,190)",
     "output_type": "error",
     "traceback": [
      "\u001b[0;31m---------------------------------------------------------------------------\u001b[0m",
      "\u001b[0;31mValueError\u001b[0m                                Traceback (most recent call last)",
      "\u001b[0;32m<ipython-input-16-85fd67f43f1e>\u001b[0m in \u001b[0;36m<module>\u001b[0;34m\u001b[0m\n\u001b[0;32m----> 1\u001b[0;31m \u001b[0mfinal_depth_image\u001b[0m\u001b[0;34m[\u001b[0m\u001b[0mloc_y\u001b[0m\u001b[0;34m:\u001b[0m \u001b[0;34m(\u001b[0m\u001b[0mloc_y\u001b[0m \u001b[0;34m+\u001b[0m \u001b[0mheight\u001b[0m\u001b[0;34m)\u001b[0m\u001b[0;34m,\u001b[0m \u001b[0mloc_x\u001b[0m\u001b[0;34m:\u001b[0m \u001b[0;34m(\u001b[0m\u001b[0mloc_x\u001b[0m \u001b[0;34m+\u001b[0m \u001b[0mwidth\u001b[0m\u001b[0;34m)\u001b[0m\u001b[0;34m]\u001b[0m \u001b[0;34m=\u001b[0m \u001b[0mdepth_image\u001b[0m\u001b[0;34m\u001b[0m\u001b[0;34m\u001b[0m\u001b[0m\n\u001b[0m\u001b[1;32m      2\u001b[0m \u001b[0mfinal_depth_mask\u001b[0m\u001b[0;34m[\u001b[0m\u001b[0mloc_y\u001b[0m\u001b[0;34m:\u001b[0m \u001b[0;34m(\u001b[0m\u001b[0mloc_y\u001b[0m \u001b[0;34m+\u001b[0m \u001b[0mheight\u001b[0m\u001b[0;34m)\u001b[0m \u001b[0;34m,\u001b[0m \u001b[0mloc_x\u001b[0m\u001b[0;34m:\u001b[0m \u001b[0;34m(\u001b[0m\u001b[0mloc_x\u001b[0m \u001b[0;34m+\u001b[0m \u001b[0mwidth\u001b[0m\u001b[0;34m)\u001b[0m\u001b[0;34m]\u001b[0m \u001b[0;34m=\u001b[0m \u001b[0mdepth_mask\u001b[0m \u001b[0;34m*\u001b[0m \u001b[0;36m255\u001b[0m\u001b[0;34m\u001b[0m\u001b[0;34m\u001b[0m\u001b[0m\n\u001b[1;32m      3\u001b[0m \u001b[0;34m\u001b[0m\u001b[0m\n\u001b[1;32m      4\u001b[0m \u001b[0mfinal_depth_image\u001b[0m \u001b[0;34m=\u001b[0m \u001b[0mnp\u001b[0m\u001b[0;34m.\u001b[0m\u001b[0mfloat32\u001b[0m\u001b[0;34m(\u001b[0m\u001b[0mfinal_depth_image\u001b[0m\u001b[0;34m)\u001b[0m\u001b[0;34m\u001b[0m\u001b[0;34m\u001b[0m\u001b[0m\n\u001b[1;32m      5\u001b[0m \u001b[0;34m\u001b[0m\u001b[0m\n",
      "\u001b[0;31mValueError\u001b[0m: could not broadcast input array from shape (3824,190) into shape (250,190)"
     ]
    }
   ],
   "source": [
    "final_depth_image[loc_y: (loc_y + height), loc_x: (loc_x + width)] = depth_image\n",
    "final_depth_mask[loc_y: (loc_y + height) , loc_x: (loc_x + width)] = depth_mask * 255\n",
    "\n",
    "final_depth_image = np.float32(final_depth_image)\n",
    "\n",
    "print(\"final_depth_image shape \", final_depth_image.shape)\n",
    "final_depth_image"
   ]
  },
  {
   "cell_type": "markdown",
   "metadata": {},
   "source": [
    "### model"
   ]
  },
  {
   "cell_type": "code",
   "execution_count": null,
   "metadata": {},
   "outputs": [],
   "source": [
    "net = cv2.dnn.readNetFromCaffe(\"caffe_models/deploy.prototxt\", \"caffe_models/hardpose_69k.caffemodel\")\n",
    "blob = cv2.dnn.blobFromImage(final_depth_image, 1, (250, 250), (), True, False)\n",
    "net.setInput(blob)\n",
    "out = net.forward()\n",
    "\n",
    "out"
   ]
  },
  {
   "cell_type": "code",
   "execution_count": null,
   "metadata": {},
   "outputs": [],
   "source": [
    "classes =  np.argmax(out, axis=1)\n",
    "classes = np.reshape(classes, (250, 250))\n",
    "classes[~final_depth_mask] = 0"
   ]
  },
  {
   "cell_type": "code",
   "execution_count": null,
   "metadata": {},
   "outputs": [],
   "source": [
    "x,y = np.nonzero(classes)\n",
    "\n",
    "classes = np.uint8(classes)\n",
    "classes = classes * 5\n",
    "\n",
    "print(np.unique(classes))\n",
    "classes"
   ]
  },
  {
   "cell_type": "code",
   "execution_count": null,
   "metadata": {},
   "outputs": [],
   "source": [
    "mask_seg = cv2.applyColorMap(classes, cv2.COLORMAP_HSV)\n",
    "\n",
    "cv2.imwrite(\"out_bremnet/bremnetsegm_seg0.png\", mask_seg)\n",
    "plt.imshow(mask_seg)"
   ]
  },
  {
   "cell_type": "code",
   "execution_count": null,
   "metadata": {},
   "outputs": [],
   "source": [
    "print(np.unique(mask_seg))\n",
    "mask_seg"
   ]
  },
  {
   "cell_type": "code",
   "execution_count": null,
   "metadata": {},
   "outputs": [],
   "source": [
    "image_seg = Image.open(\"out_bremnet/bremnetsegm_seg0.png\")\n",
    "\n",
    "red_bg = (255,0,0)\n",
    "white = (255,255,255)\n",
    "\n",
    "new_white = []\n",
    "\n",
    "for color in image_seg.getdata():\n",
    "    #print(color)\n",
    "    if color == red_bg:\n",
    "        new_white.append(white)\n",
    "    else:\n",
    "        new_white.append(color)\n",
    "\n",
    "new_image = Image.new(image_seg.mode, image_seg.size)\n",
    "new_image.putdata(new_white)\n",
    "    \n",
    "new_image.save('out_bremnet/bremnetsegm_seg1.png')\n",
    "plt.imshow(np.asarray(new_image))"
   ]
  },
  {
   "cell_type": "code",
   "execution_count": null,
   "metadata": {},
   "outputs": [],
   "source": [
    "#seg_resize = new_image.resize(original_size)\n",
    "#seg_resize.save('out_bremnet/bremnetsegm_segmented.png')"
   ]
  },
  {
   "cell_type": "code",
   "execution_count": null,
   "metadata": {},
   "outputs": [],
   "source": [
    "seg_resize = new_image.resize((1080, 1080))\n",
    "seg_resize.save('out_bremnet/bremnetsegm_segmented_1080.png')"
   ]
  },
  {
   "cell_type": "markdown",
   "metadata": {},
   "source": [
    "## measure"
   ]
  },
  {
   "cell_type": "code",
   "execution_count": null,
   "metadata": {},
   "outputs": [],
   "source": [
    "image.shape"
   ]
  },
  {
   "cell_type": "code",
   "execution_count": null,
   "metadata": {},
   "outputs": [],
   "source": [
    "# ROI:\n",
    "m_mask = cv2.imread(os.path.abspath(\"out_bremnet/bremnetsegm_transparentbg.png\"))\n",
    "m_gray = cv2.cvtColor(m_mask, cv2.COLOR_RGB2GRAY)\n",
    "m_thresh, m_bw = cv2.threshold(m_gray, 128, 255, 0)\n",
    "m_inv = cv2.bitwise_not(m_bw)\n",
    "    \n",
    "# Get rectangle\n",
    "contours, hierarchy = cv2.findContours(m_inv, cv2.RETR_TREE, cv2.CHAIN_APPROX_SIMPLE)\n",
    "maxarea = 0\n",
    "cnt = None\n",
    "\n",
    "for h, tcnt in enumerate(contours): \n",
    "    area = cv2.contourArea(tcnt)\n",
    "    if area > maxarea:\n",
    "        maxarea = area\n",
    "        cnt = tcnt\n",
    "\n",
    "    (x,y,w,h)=(0,0,0,0)\n",
    "    if cnt.any() != None:\n",
    "        x,y,w,h = cv2.boundingRect(cnt)\n",
    "            \n",
    "crop_mask = m_mask[y:y+h, x:x+w]\n",
    "plt.imshow(crop_mask)"
   ]
  },
  {
   "cell_type": "code",
   "execution_count": null,
   "metadata": {},
   "outputs": [],
   "source": [
    "crop_mask.shape"
   ]
  },
  {
   "cell_type": "code",
   "execution_count": null,
   "metadata": {},
   "outputs": [],
   "source": []
  }
 ],
 "metadata": {
  "kernelspec": {
   "display_name": "Python 3",
   "language": "python",
   "name": "python3"
  },
  "language_info": {
   "codemirror_mode": {
    "name": "ipython",
    "version": 3
   },
   "file_extension": ".py",
   "mimetype": "text/x-python",
   "name": "python",
   "nbconvert_exporter": "python",
   "pygments_lexer": "ipython3",
   "version": "3.6.9"
  }
 },
 "nbformat": 4,
 "nbformat_minor": 2
}
